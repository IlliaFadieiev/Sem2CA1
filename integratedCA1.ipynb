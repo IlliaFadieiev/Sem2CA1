{
 "cells": [
  {
   "cell_type": "markdown",
   "id": "4c801966-37e5-40b5-9151-da78c923f9c1",
   "metadata": {},
   "source": [
    "# Integrated CA1"
   ]
  },
  {
   "cell_type": "markdown",
   "id": "526b6dcd-3f9e-4d5e-ba85-2400e01b993d",
   "metadata": {},
   "source": [
    "## Importing modules"
   ]
  },
  {
   "cell_type": "code",
   "execution_count": 1,
   "id": "a1639d3d-329c-46f2-8b9c-3cba294616e6",
   "metadata": {
    "scrolled": true
   },
   "outputs": [],
   "source": [
    "#!pip install pyspark\n",
    "#!pip install matplotlib\n",
    "#!pip install seaborn\n",
    "#!pip install torch\n",
    "#!pip install scikit-learn"
   ]
  },
  {
   "cell_type": "markdown",
   "id": "d4b73267-9f80-4bdb-bed3-be431f57a8a1",
   "metadata": {},
   "source": [
    "## SparkSession initialisation"
   ]
  },
  {
   "cell_type": "code",
   "execution_count": 2,
   "id": "9f444a93-7715-4b0c-b854-f0f3e1377dba",
   "metadata": {},
   "outputs": [
    {
     "name": "stderr",
     "output_type": "stream",
     "text": [
      "24/04/07 14:23:33 WARN Utils: Your hostname, BDSP resolves to a loopback address: 127.0.1.1; using 10.0.2.15 instead (on interface enp0s3)\n",
      "24/04/07 14:23:33 WARN Utils: Set SPARK_LOCAL_IP if you need to bind to another address\n",
      "Setting default log level to \"WARN\".\n",
      "To adjust logging level use sc.setLogLevel(newLevel). For SparkR, use setLogLevel(newLevel).\n",
      "24/04/07 14:23:34 WARN NativeCodeLoader: Unable to load native-hadoop library for your platform... using builtin-java classes where applicable\n"
     ]
    }
   ],
   "source": [
    "from pyspark.sql import SparkSession\n",
    "\n",
    "spark = SparkSession.builder \\\n",
    "        .appName(\"Integrated CA1 Processing\") \\\n",
    "        .getOrCreate()"
   ]
  },
  {
   "cell_type": "markdown",
   "id": "2d995345-0ea5-44a0-a8f4-990c6c8129a8",
   "metadata": {},
   "source": [
    "## CSV reading"
   ]
  },
  {
   "cell_type": "code",
   "execution_count": 3,
   "id": "f3bfff67-3e53-45e7-8789-ec0d31f651cd",
   "metadata": {
    "scrolled": true
   },
   "outputs": [
    {
     "name": "stderr",
     "output_type": "stream",
     "text": [
      "                                                                                \r"
     ]
    }
   ],
   "source": [
    "df1 = spark.read.csv(\"hdfs://localhost:9000/integratedCA1/part1.csv\", header=True, inferSchema=True)\n",
    "df2 = spark.read.csv(\"hdfs://localhost:9000/integratedCA1/part2.csv\", header=True, inferSchema=True)\n",
    "df3 = spark.read.csv(\"hdfs://localhost:9000/integratedCA1/part3.csv\", header=True, inferSchema=True)"
   ]
  },
  {
   "cell_type": "markdown",
   "id": "6d0f975f-fc1f-4814-bb56-a1337c8e09e1",
   "metadata": {},
   "source": [
    "## Merging dataframes"
   ]
  },
  {
   "cell_type": "code",
   "execution_count": 4,
   "id": "eb2702e3-c595-4237-b40f-5c6dae353d20",
   "metadata": {},
   "outputs": [
    {
     "name": "stdout",
     "output_type": "stream",
     "text": [
      "+--------+-----------------+-----------------+---------+----------+------------+--------------+\n",
      "| SQLDATE|Actor1CountryCode|Actor2CountryCode|EventCode|EventCount|TotalSources|PartitionGroup|\n",
      "+--------+-----------------+-----------------+---------+----------+------------+--------------+\n",
      "|20110204|              GBR|              EGY|      010|        10|          12|             1|\n",
      "|20110914|              HND|              AUS|      042|         2|          46|             1|\n",
      "|20110210|              MEX|              FRA|      120|        10|          46|             1|\n",
      "|20110427|              ITA|              SYR|      020|        13|          27|             1|\n",
      "|20110705|              EUR|              GRC|      130|         4|          14|             1|\n",
      "+--------+-----------------+-----------------+---------+----------+------------+--------------+\n",
      "only showing top 5 rows\n",
      "\n"
     ]
    }
   ],
   "source": [
    "df = df1.union(df2).union(df3)\n",
    "\n",
    "df.show(5)"
   ]
  },
  {
   "cell_type": "markdown",
   "id": "30fbd123-7324-415c-8cc2-a8a1150be155",
   "metadata": {},
   "source": [
    "## Exploratory data analysis & Data preparation"
   ]
  },
  {
   "cell_type": "code",
   "execution_count": 5,
   "id": "373390d8-4604-42b7-aec6-c31401161f4a",
   "metadata": {},
   "outputs": [
    {
     "name": "stderr",
     "output_type": "stream",
     "text": [
      "                                                                                \r"
     ]
    },
    {
     "data": {
      "text/plain": [
       "56976039"
      ]
     },
     "execution_count": 5,
     "metadata": {},
     "output_type": "execute_result"
    }
   ],
   "source": [
    "df.count()"
   ]
  },
  {
   "cell_type": "code",
   "execution_count": 6,
   "id": "9cc5adf5-bb3b-4610-9c71-869aa12b9cb1",
   "metadata": {},
   "outputs": [
    {
     "name": "stdout",
     "output_type": "stream",
     "text": [
      "root\n",
      " |-- SQLDATE: integer (nullable = true)\n",
      " |-- Actor1CountryCode: string (nullable = true)\n",
      " |-- Actor2CountryCode: string (nullable = true)\n",
      " |-- EventCode: string (nullable = true)\n",
      " |-- EventCount: integer (nullable = true)\n",
      " |-- TotalSources: integer (nullable = true)\n",
      " |-- PartitionGroup: integer (nullable = true)\n",
      "\n"
     ]
    }
   ],
   "source": [
    "df.printSchema()"
   ]
  },
  {
   "cell_type": "code",
   "execution_count": 7,
   "id": "dcebf09f-0655-48a7-8cc5-704dac2aad1b",
   "metadata": {},
   "outputs": [
    {
     "name": "stderr",
     "output_type": "stream",
     "text": [
      "[Stage 10:===================================================>    (11 + 1) / 12]\r"
     ]
    },
    {
     "name": "stdout",
     "output_type": "stream",
     "text": [
      "+-------+-----------------+-----------------+---------+----------+------------+--------------+\n",
      "|SQLDATE|Actor1CountryCode|Actor2CountryCode|EventCode|EventCount|TotalSources|PartitionGroup|\n",
      "+-------+-----------------+-----------------+---------+----------+------------+--------------+\n",
      "|      0|                0|                0|        0|         0|           0|             0|\n",
      "+-------+-----------------+-----------------+---------+----------+------------+--------------+\n",
      "\n"
     ]
    },
    {
     "name": "stderr",
     "output_type": "stream",
     "text": [
      "                                                                                \r"
     ]
    }
   ],
   "source": [
    "from pyspark.sql.functions import col, count, isnan, when\n",
    "\n",
    "df.select([count(when(isnan(c) | col(c).isNull(), c)).alias(c) for c in df.columns]).show()"
   ]
  },
  {
   "cell_type": "markdown",
   "id": "60f1a2e7-b1a2-4955-a424-67fa48b1abb0",
   "metadata": {},
   "source": [
    "### Check what data is in PartitionGroup"
   ]
  },
  {
   "cell_type": "code",
   "execution_count": 8,
   "id": "83f4d736-15ab-4f7f-a651-061165d6f46e",
   "metadata": {},
   "outputs": [
    {
     "name": "stderr",
     "output_type": "stream",
     "text": [
      "                                                                                \r"
     ]
    },
    {
     "data": {
      "text/plain": [
       "3"
      ]
     },
     "execution_count": 8,
     "metadata": {},
     "output_type": "execute_result"
    }
   ],
   "source": [
    "df.select(\"PartitionGroup\").distinct().count()"
   ]
  },
  {
   "cell_type": "markdown",
   "id": "6d19bc74-ec22-4c60-8069-382f5da34e1b",
   "metadata": {},
   "source": [
    "### Drop PartitionGroup as useless"
   ]
  },
  {
   "cell_type": "code",
   "execution_count": 9,
   "id": "77a0db56-e3c6-4d87-82cf-9831abc4d0c8",
   "metadata": {},
   "outputs": [],
   "source": [
    "df = df.drop(\"PartitionGroup\")"
   ]
  },
  {
   "cell_type": "markdown",
   "id": "fe5c6298-a994-492f-a404-8c2b4c9f6916",
   "metadata": {},
   "source": [
    "## Data filtering"
   ]
  },
  {
   "cell_type": "markdown",
   "id": "dd71aedc-1f26-48be-8886-f22a05e9fdd0",
   "metadata": {},
   "source": [
    "#### Collecting data I mentioned that GDELT Events dataset has a lot of information about events newer exist. Usually they had very few sources."
   ]
  },
  {
   "cell_type": "code",
   "execution_count": 10,
   "id": "e852b512-15fe-496c-8849-b3fabccbcf1a",
   "metadata": {},
   "outputs": [],
   "source": [
    "source_counts = df.groupBy(\"TotalSources\").count().orderBy(\"TotalSources\")"
   ]
  },
  {
   "cell_type": "code",
   "execution_count": 11,
   "id": "07c17892-5daa-4527-a3e2-c959dc46d1b6",
   "metadata": {},
   "outputs": [
    {
     "name": "stderr",
     "output_type": "stream",
     "text": [
      "                                                                                \r"
     ]
    }
   ],
   "source": [
    "pandas_source_counts = source_counts.toPandas()"
   ]
  },
  {
   "cell_type": "code",
   "execution_count": 12,
   "id": "0dd2c69a-53e4-44a7-b0f2-6cdf7b2796a7",
   "metadata": {},
   "outputs": [
    {
     "data": {
      "text/html": [
       "<div>\n",
       "<style scoped>\n",
       "    .dataframe tbody tr th:only-of-type {\n",
       "        vertical-align: middle;\n",
       "    }\n",
       "\n",
       "    .dataframe tbody tr th {\n",
       "        vertical-align: top;\n",
       "    }\n",
       "\n",
       "    .dataframe thead th {\n",
       "        text-align: right;\n",
       "    }\n",
       "</style>\n",
       "<table border=\"1\" class=\"dataframe\">\n",
       "  <thead>\n",
       "    <tr style=\"text-align: right;\">\n",
       "      <th></th>\n",
       "      <th>TotalSources</th>\n",
       "      <th>count</th>\n",
       "    </tr>\n",
       "  </thead>\n",
       "  <tbody>\n",
       "    <tr>\n",
       "      <th>0</th>\n",
       "      <td>1</td>\n",
       "      <td>18591873</td>\n",
       "    </tr>\n",
       "    <tr>\n",
       "      <th>1</th>\n",
       "      <td>2</td>\n",
       "      <td>16436795</td>\n",
       "    </tr>\n",
       "    <tr>\n",
       "      <th>2</th>\n",
       "      <td>3</td>\n",
       "      <td>7167315</td>\n",
       "    </tr>\n",
       "    <tr>\n",
       "      <th>3</th>\n",
       "      <td>4</td>\n",
       "      <td>4043456</td>\n",
       "    </tr>\n",
       "    <tr>\n",
       "      <th>4</th>\n",
       "      <td>5</td>\n",
       "      <td>1795733</td>\n",
       "    </tr>\n",
       "    <tr>\n",
       "      <th>...</th>\n",
       "      <td>...</td>\n",
       "      <td>...</td>\n",
       "    </tr>\n",
       "    <tr>\n",
       "      <th>2365</th>\n",
       "      <td>5971</td>\n",
       "      <td>1</td>\n",
       "    </tr>\n",
       "    <tr>\n",
       "      <th>2366</th>\n",
       "      <td>6524</td>\n",
       "      <td>1</td>\n",
       "    </tr>\n",
       "    <tr>\n",
       "      <th>2367</th>\n",
       "      <td>7032</td>\n",
       "      <td>1</td>\n",
       "    </tr>\n",
       "    <tr>\n",
       "      <th>2368</th>\n",
       "      <td>7420</td>\n",
       "      <td>1</td>\n",
       "    </tr>\n",
       "    <tr>\n",
       "      <th>2369</th>\n",
       "      <td>9320</td>\n",
       "      <td>1</td>\n",
       "    </tr>\n",
       "  </tbody>\n",
       "</table>\n",
       "<p>2370 rows × 2 columns</p>\n",
       "</div>"
      ],
      "text/plain": [
       "      TotalSources     count\n",
       "0                1  18591873\n",
       "1                2  16436795\n",
       "2                3   7167315\n",
       "3                4   4043456\n",
       "4                5   1795733\n",
       "...            ...       ...\n",
       "2365          5971         1\n",
       "2366          6524         1\n",
       "2367          7032         1\n",
       "2368          7420         1\n",
       "2369          9320         1\n",
       "\n",
       "[2370 rows x 2 columns]"
      ]
     },
     "execution_count": 12,
     "metadata": {},
     "output_type": "execute_result"
    }
   ],
   "source": [
    "pandas_source_counts"
   ]
  },
  {
   "cell_type": "code",
   "execution_count": 15,
   "id": "9f638ac8-4cd4-442c-aa8d-965789cd7b64",
   "metadata": {},
   "outputs": [
    {
     "data": {
      "image/png": "[encoded data removed]",
      "text/plain": [
       "<Figure size 1200x600 with 1 Axes>"
      ]
     },
     "metadata": {},
     "output_type": "display_data"
    }
   ],
   "source": [
    "import pandas as pd\n",
    "import matplotlib.pyplot as plt\n",
    "import seaborn as sns\n",
    "\n",
    "plt.figure(figsize=(12, 6))\n",
    "plt.hist(pandas_source_counts[\"TotalSources\"], bins=50, log=True)  # Using log scale to show source counts\n",
    "plt.xlabel(\"TotalSources\")\n",
    "plt.ylabel(\"Count\")\n",
    "plt.show()"
   ]
  },
  {
   "cell_type": "code",
   "execution_count": 16,
   "id": "9b1409cc-4de9-44e8-8970-d7d06b4fb8b0",
   "metadata": {},
   "outputs": [
    {
     "data": {
      "image/png": "[encoded data removed]",
      "text/plain": [
       "<Figure size 1200x600 with 1 Axes>"
      ]
     },
     "metadata": {},
     "output_type": "display_data"
    }
   ],
   "source": [
    "filtered_counts = pandas_source_counts[pandas_source_counts[\"TotalSources\"] <= 100]\n",
    "\n",
    "plt.figure(figsize=(12, 6))\n",
    "sns.barplot(x=\"TotalSources\", y=\"count\", data=filtered_counts)\n",
    "plt.xticks(rotation=90)\n",
    "plt.show()"
   ]
  },
  {
   "cell_type": "markdown",
   "id": "37d5f048-2819-4bda-8f96-d6d7a72ab81f",
   "metadata": {},
   "source": [
    "#### Setting minimum ampunt of sources will lead to dramatic decrease of events, but still leave enough of events to train the model"
   ]
  },
  {
   "cell_type": "code",
   "execution_count": 17,
   "id": "2f2d13fa-7019-4aad-8481-0ec36ba9811c",
   "metadata": {},
   "outputs": [],
   "source": [
    "minSources = 36\n",
    "filtered_df = df.filter(df.TotalSources >= minSources)"
   ]
  },
  {
   "cell_type": "code",
   "execution_count": 18,
   "id": "6dd720ae-8713-4e1f-ac2d-43950fc3d0d4",
   "metadata": {},
   "outputs": [
    {
     "name": "stderr",
     "output_type": "stream",
     "text": [
      "                                                                                \r"
     ]
    },
    {
     "data": {
      "text/plain": [
       "1295711"
      ]
     },
     "execution_count": 18,
     "metadata": {},
     "output_type": "execute_result"
    }
   ],
   "source": [
    "filtered_df.count()"
   ]
  },
  {
   "cell_type": "markdown",
   "id": "1b110e74-b599-40e8-951b-b2143fcc00d6",
   "metadata": {},
   "source": [
    "#### Another my insight about fake events was that a lot of them was very \"general\" and their event codes were ending on '0' (such as 010, 190, etc). These events are also non informative enough for thaining models, so lets filter them too"
   ]
  },
  {
   "cell_type": "code",
   "execution_count": null,
   "id": "dd26eb09-fe3c-47fe-b570-f154ce209f30",
   "metadata": {},
   "outputs": [],
   "source": [
    "from pyspark.sql.functions import col\n",
    "\n",
    "filtered_df = filtered_df.filter(~col(\"EventCode\").rlike(\".+0$\"))\n",
    "filtered_df.show()"
   ]
  },
  {
   "cell_type": "code",
   "execution_count": 20,
   "id": "e9bf991b-1ae7-41ec-862b-7d403283e9e0",
   "metadata": {},
   "outputs": [
    {
     "name": "stderr",
     "output_type": "stream",
     "text": [
      "                                                                                \r"
     ]
    },
    {
     "data": {
      "text/plain": [
       "819196"
      ]
     },
     "execution_count": 20,
     "metadata": {},
     "output_type": "execute_result"
    }
   ],
   "source": [
    "filtered_df.count()"
   ]
  },
  {
   "cell_type": "markdown",
   "id": "d897ee4c-5c34-431e-a390-d55c10d2848b",
   "metadata": {},
   "source": [
    "## Data Preparation"
   ]
  },
  {
   "cell_type": "markdown",
   "id": "7f44100c-7eb5-4636-893b-83dc3199caab",
   "metadata": {},
   "source": [
    "### Feature extraction"
   ]
  },
  {
   "cell_type": "code",
   "execution_count": 21,
   "id": "187b943f-552d-4745-965c-59a749d2230b",
   "metadata": {},
   "outputs": [],
   "source": [
    "from pyspark.sql.functions import col, when\n",
    "\n",
    "dataframe = filtered_df.withColumn(\"IsConflict\", when(col(\"EventCode\").startswith(\"19\") | col(\"EventCode\").startswith(\"20\"), 1).otherwise(0))"
   ]
  },
  {
   "cell_type": "code",
   "execution_count": 22,
   "id": "e63073c6-6b38-4dbe-8c61-05230c86a87a",
   "metadata": {},
   "outputs": [
    {
     "name": "stdout",
     "output_type": "stream",
     "text": [
      "+--------+-----------------+-----------------+---------+----------+------------+----------+\n",
      "| SQLDATE|Actor1CountryCode|Actor2CountryCode|EventCode|EventCount|TotalSources|IsConflict|\n",
      "+--------+-----------------+-----------------+---------+----------+------------+----------+\n",
      "|20110914|              HND|              AUS|      042|         2|          46|         0|\n",
      "|20110901|              GBR|              IRQ|      042|         3|          42|         0|\n",
      "|20101204|              USA|              KOR|      046|        29|          78|         0|\n",
      "|20110925|              CUB|              USA|      042|        20|          74|         0|\n",
      "|20101231|              IRQ|              EGY|      138|         3|          84|         0|\n",
      "|20110529|              USA|              SAU|      012|         8|          41|         0|\n",
      "|20101029|              VNM|              JPN|      036|        18|          40|         0|\n",
      "|20101214|              ISR|              PSE|      036|        10|          39|         0|\n",
      "|20100918|              USA|              MEX|      042|        12|          47|         0|\n",
      "|20110425|              AFG|              USA|      046|        26|          85|         0|\n",
      "|20110810|              KOR|              USA|      022|        14|         183|         0|\n",
      "|20100830|              IDN|              USA|      173|        10|          39|         0|\n",
      "|20110123|              PHL|              SOM|     0841|         4|         159|         0|\n",
      "|20101127|              SYR|              IRN|      043|        23|         293|         0|\n",
      "|20110131|              NER|              FRA|      181|        10|          69|         0|\n",
      "|20110607|              UKR|              KAZ|      043|         3|          66|         0|\n",
      "|20101024|              USA|              KGZ|      042|         7|          46|         0|\n",
      "|20090815|              USA|              ITA|      043|         4|          54|         0|\n",
      "|20110906|              USA|              NLD|      111|        14|          59|         0|\n",
      "|20100730|              MEA|              ISR|      036|        10|          40|         0|\n",
      "+--------+-----------------+-----------------+---------+----------+------------+----------+\n",
      "only showing top 20 rows\n",
      "\n"
     ]
    }
   ],
   "source": [
    "dataframe.show()"
   ]
  },
  {
   "cell_type": "markdown",
   "id": "0f145541-732b-4599-a079-d024bf53c027",
   "metadata": {},
   "source": [
    "### Converting date into timestamp"
   ]
  },
  {
   "cell_type": "code",
   "execution_count": 23,
   "id": "bde0e81b-487e-4dc5-a091-f79c19e3a3ba",
   "metadata": {},
   "outputs": [],
   "source": [
    "from pyspark.sql.functions import to_date, unix_timestamp, col\n",
    "\n",
    "dataframe = dataframe.withColumn('timestamp', unix_timestamp(to_date(col('SQLDATE'), 'yyyyMMdd')))"
   ]
  },
  {
   "cell_type": "markdown",
   "id": "aeb5d4da-4f55-4dea-963c-7e8c4115d805",
   "metadata": {},
   "source": [
    "### Timestamp standartization"
   ]
  },
  {
   "cell_type": "code",
   "execution_count": 24,
   "id": "b34e35a1-1845-4765-bff1-23f93c03abcd",
   "metadata": {},
   "outputs": [
    {
     "name": "stderr",
     "output_type": "stream",
     "text": [
      "                                                                                \r"
     ]
    }
   ],
   "source": [
    "from pyspark.sql.functions import mean as _mean, stddev as _stddev\n",
    "\n",
    "mean_val, std_val = dataframe.select(\n",
    "    _mean(col('timestamp')).alias('mean'),\n",
    "    _stddev(col('timestamp')).alias('std')\n",
    ").first()\n",
    "\n",
    "dataframe = dataframe.withColumn('timestamp_scaled', (col('timestamp') - mean_val) / std_val)"
   ]
  },
  {
   "cell_type": "code",
   "execution_count": 25,
   "id": "75203f7a-d558-4d54-ae6b-da7df32391fd",
   "metadata": {},
   "outputs": [
    {
     "name": "stdout",
     "output_type": "stream",
     "text": [
      "+--------+-----------------+-----------------+---------+----------+------------+----------+----------+-------------------+\n",
      "| SQLDATE|Actor1CountryCode|Actor2CountryCode|EventCode|EventCount|TotalSources|IsConflict| timestamp|   timestamp_scaled|\n",
      "+--------+-----------------+-----------------+---------+----------+------------+----------+----------+-------------------+\n",
      "|20110914|              HND|              AUS|      042|         2|          46|         0|1315954800| -1.136266862141451|\n",
      "|20110901|              GBR|              IRQ|      042|         3|          42|         0|1314831600|-1.1432547691864292|\n",
      "|20101204|              USA|              KOR|      046|        29|          78|         0|1291420800|-1.2889033573707038|\n",
      "|20110925|              CUB|              USA|      042|        20|          74|         0|1316905200| -1.130354017718777|\n",
      "|20101231|              IRQ|              EGY|      138|         3|          84|         0|1293753600|-1.2743900119695952|\n",
      "|20110529|              USA|              SAU|      012|         8|          41|         0|1306623600|-1.1943202437458857|\n",
      "|20101029|              VNM|              JPN|      036|        18|          40|         0|1288306800|-1.3082768817101469|\n",
      "|20101214|              ISR|              PSE|      036|        10|          39|         0|1292284800| -1.283528044259182|\n",
      "|20100918|              USA|              MEX|      042|        12|          47|         0|1284764400| -1.330315665467386|\n",
      "|20110425|              AFG|              USA|      046|        26|          85|         0|1303686000|-1.2125963083250597|\n",
      "|20110810|              KOR|              USA|      022|        14|         183|         0|1312930800| -1.155080458031777|\n",
      "|20100830|              IDN|              USA|      173|        10|          39|         0|1283122800|-1.3405287603792775|\n",
      "|20110123|              PHL|              SOM|     0841|         4|         159|         0|1295740800|-1.2620267918130952|\n",
      "|20101127|              SYR|              IRN|      043|        23|         293|         0|1290816000|-1.2926660765487692|\n",
      "|20110131|              NER|              FRA|      181|        10|          69|         0|1296432000|-1.2577265413238778|\n",
      "|20110607|              UKR|              KAZ|      043|         3|          66|         0|1307401200|-1.1894824619455162|\n",
      "|20101024|              USA|              KGZ|      042|         7|          46|         0|1287874800|-1.3109645382659079|\n",
      "|20090815|              USA|              ITA|      043|         4|          54|         0|1250290800|-1.5447906586171039|\n",
      "|20110906|              USA|              NLD|      111|        14|          59|         0|1315263600|-1.1405671126306685|\n",
      "|20100730|              MEA|              ISR|      036|        10|          40|         0|1280444400|-1.3571922310249949|\n",
      "+--------+-----------------+-----------------+---------+----------+------------+----------+----------+-------------------+\n",
      "only showing top 20 rows\n",
      "\n"
     ]
    }
   ],
   "source": [
    "dataframe.show()"
   ]
  },
  {
   "cell_type": "markdown",
   "id": "ea837767-0a69-4345-8887-3be14e9363dd",
   "metadata": {},
   "source": [
    "### Drop unnecessary columns"
   ]
  },
  {
   "cell_type": "code",
   "execution_count": 26,
   "id": "aeaeab1b-059d-41f1-a0c5-870ca70d73aa",
   "metadata": {},
   "outputs": [
    {
     "name": "stdout",
     "output_type": "stream",
     "text": [
      "+-----------------+-----------------+---------+----------+------------+----------+-------------------+\n",
      "|Actor1CountryCode|Actor2CountryCode|EventCode|EventCount|TotalSources|IsConflict|   timestamp_scaled|\n",
      "+-----------------+-----------------+---------+----------+------------+----------+-------------------+\n",
      "|              HND|              AUS|      042|         2|          46|         0| -1.136266862141451|\n",
      "|              GBR|              IRQ|      042|         3|          42|         0|-1.1432547691864292|\n",
      "|              USA|              KOR|      046|        29|          78|         0|-1.2889033573707038|\n",
      "|              CUB|              USA|      042|        20|          74|         0| -1.130354017718777|\n",
      "|              IRQ|              EGY|      138|         3|          84|         0|-1.2743900119695952|\n",
      "|              USA|              SAU|      012|         8|          41|         0|-1.1943202437458857|\n",
      "|              VNM|              JPN|      036|        18|          40|         0|-1.3082768817101469|\n",
      "|              ISR|              PSE|      036|        10|          39|         0| -1.283528044259182|\n",
      "|              USA|              MEX|      042|        12|          47|         0| -1.330315665467386|\n",
      "|              AFG|              USA|      046|        26|          85|         0|-1.2125963083250597|\n",
      "|              KOR|              USA|      022|        14|         183|         0| -1.155080458031777|\n",
      "|              IDN|              USA|      173|        10|          39|         0|-1.3405287603792775|\n",
      "|              PHL|              SOM|     0841|         4|         159|         0|-1.2620267918130952|\n",
      "|              SYR|              IRN|      043|        23|         293|         0|-1.2926660765487692|\n",
      "|              NER|              FRA|      181|        10|          69|         0|-1.2577265413238778|\n",
      "|              UKR|              KAZ|      043|         3|          66|         0|-1.1894824619455162|\n",
      "|              USA|              KGZ|      042|         7|          46|         0|-1.3109645382659079|\n",
      "|              USA|              ITA|      043|         4|          54|         0|-1.5447906586171039|\n",
      "|              USA|              NLD|      111|        14|          59|         0|-1.1405671126306685|\n",
      "|              MEA|              ISR|      036|        10|          40|         0|-1.3571922310249949|\n",
      "+-----------------+-----------------+---------+----------+------------+----------+-------------------+\n",
      "only showing top 20 rows\n",
      "\n"
     ]
    }
   ],
   "source": [
    "dataframe = dataframe.drop('SQLDATE', 'timestamp')\n",
    "dataframe.show()"
   ]
  },
  {
   "cell_type": "markdown",
   "id": "93b918dd-3683-47e7-8ad0-d3c49554140f",
   "metadata": {},
   "source": [
    "### Categorical data vectorization"
   ]
  },
  {
   "cell_type": "code",
   "execution_count": 27,
   "id": "c9ba7737-89a4-4cf8-9e58-33681a4676f2",
   "metadata": {},
   "outputs": [
    {
     "name": "stderr",
     "output_type": "stream",
     "text": [
      "                                                                                \r"
     ]
    }
   ],
   "source": [
    "from pyspark.ml import Pipeline\n",
    "from pyspark.ml.feature import StringIndexer, OneHotEncoder\n",
    "\n",
    "# Indexing\n",
    "actor1Indexer = StringIndexer(inputCol=\"Actor1CountryCode\", outputCol=\"Actor1CountryCodeIndex\")\n",
    "actor2Indexer = StringIndexer(inputCol=\"Actor2CountryCode\", outputCol=\"Actor2CountryCodeIndex\")\n",
    "eventIndexer = StringIndexer(inputCol=\"EventCode\", outputCol=\"EventCodeIndex\")\n",
    "\n",
    "# One-hot encoding\n",
    "actor1Encoder = OneHotEncoder(inputCol=\"Actor1CountryCodeIndex\", outputCol=\"Actor1CountryCodeVec\")\n",
    "actor2Encoder = OneHotEncoder(inputCol=\"Actor2CountryCodeIndex\", outputCol=\"Actor2CountryCodeVec\")\n",
    "eventEncoder = OneHotEncoder(inputCol=\"EventCodeIndex\", outputCol=\"EventCodeVec\")\n",
    "\n",
    "pipeline = Pipeline(stages=[actor1Indexer, actor2Indexer, eventIndexer, actor1Encoder, actor2Encoder, eventEncoder])\n",
    "\n",
    "model = pipeline.fit(dataframe)\n",
    "transformed_df = model.transform(dataframe)"
   ]
  },
  {
   "cell_type": "code",
   "execution_count": 28,
   "id": "e01efb24-45e2-4cef-962f-3f6bc5c982f9",
   "metadata": {},
   "outputs": [
    {
     "name": "stdout",
     "output_type": "stream",
     "text": [
      "+-----------------+-----------------+---------+----------+------------+----------+-------------------+----------------------+----------------------+--------------+--------------------+--------------------+----------------+\n",
      "|Actor1CountryCode|Actor2CountryCode|EventCode|EventCount|TotalSources|IsConflict|   timestamp_scaled|Actor1CountryCodeIndex|Actor2CountryCodeIndex|EventCodeIndex|Actor1CountryCodeVec|Actor2CountryCodeVec|    EventCodeVec|\n",
      "+-----------------+-----------------+---------+----------+------------+----------+-------------------+----------------------+----------------------+--------------+--------------------+--------------------+----------------+\n",
      "|              HND|              AUS|      042|         2|          46|         0| -1.136266862141451|                  89.0|                  15.0|           0.0|    (217,[89],[1.0])|    (217,[15],[1.0])| (223,[0],[1.0])|\n",
      "|              GBR|              IRQ|      042|         3|          42|         0|-1.1432547691864292|                   2.0|                  19.0|           0.0|     (217,[2],[1.0])|    (217,[19],[1.0])| (223,[0],[1.0])|\n",
      "|              USA|              KOR|      046|        29|          78|         0|-1.2889033573707038|                   0.0|                  23.0|           2.0|     (217,[0],[1.0])|    (217,[23],[1.0])| (223,[2],[1.0])|\n",
      "|              CUB|              USA|      042|        20|          74|         0| -1.130354017718777|                  35.0|                   0.0|           0.0|    (217,[35],[1.0])|     (217,[0],[1.0])| (223,[0],[1.0])|\n",
      "|              IRQ|              EGY|      138|         3|          84|         0|-1.2743900119695952|                  24.0|                  21.0|          26.0|    (217,[24],[1.0])|    (217,[21],[1.0])|(223,[26],[1.0])|\n",
      "|              USA|              SAU|      012|         8|          41|         0|-1.1943202437458857|                   0.0|                  18.0|          10.0|     (217,[0],[1.0])|    (217,[18],[1.0])|(223,[10],[1.0])|\n",
      "|              VNM|              JPN|      036|        18|          40|         0|-1.3082768817101469|                  39.0|                  17.0|           3.0|    (217,[39],[1.0])|    (217,[17],[1.0])| (223,[3],[1.0])|\n",
      "|              ISR|              PSE|      036|        10|          39|         0| -1.283528044259182|                   4.0|                   9.0|           3.0|     (217,[4],[1.0])|     (217,[9],[1.0])| (223,[3],[1.0])|\n",
      "|              USA|              MEX|      042|        12|          47|         0| -1.330315665467386|                   0.0|                  20.0|           0.0|     (217,[0],[1.0])|    (217,[20],[1.0])| (223,[0],[1.0])|\n",
      "|              AFG|              USA|      046|        26|          85|         0|-1.2125963083250597|                  16.0|                   0.0|           2.0|    (217,[16],[1.0])|     (217,[0],[1.0])| (223,[2],[1.0])|\n",
      "|              KOR|              USA|      022|        14|         183|         0| -1.155080458031777|                  21.0|                   0.0|          59.0|    (217,[21],[1.0])|     (217,[0],[1.0])|(223,[59],[1.0])|\n",
      "|              IDN|              USA|      173|        10|          39|         0|-1.3405287603792775|                  36.0|                   0.0|           5.0|    (217,[36],[1.0])|     (217,[0],[1.0])| (223,[5],[1.0])|\n",
      "|              PHL|              SOM|     0841|         4|         159|         0|-1.2620267918130952|                  34.0|                  53.0|          18.0|    (217,[34],[1.0])|    (217,[53],[1.0])|(223,[18],[1.0])|\n",
      "|              SYR|              IRN|      043|        23|         293|         0|-1.2926660765487692|                  11.0|                   6.0|           1.0|    (217,[11],[1.0])|     (217,[6],[1.0])| (223,[1],[1.0])|\n",
      "|              NER|              FRA|      181|        10|          69|         0|-1.2577265413238778|                 103.0|                   8.0|          33.0|   (217,[103],[1.0])|     (217,[8],[1.0])|(223,[33],[1.0])|\n",
      "|              UKR|              KAZ|      043|         3|          66|         0|-1.1894824619455162|                   7.0|                  88.0|           1.0|     (217,[7],[1.0])|    (217,[88],[1.0])| (223,[1],[1.0])|\n",
      "|              USA|              KGZ|      042|         7|          46|         0|-1.3109645382659079|                   0.0|                 130.0|           0.0|     (217,[0],[1.0])|   (217,[130],[1.0])| (223,[0],[1.0])|\n",
      "|              USA|              ITA|      043|         4|          54|         0|-1.5447906586171039|                   0.0|                  24.0|           1.0|     (217,[0],[1.0])|    (217,[24],[1.0])| (223,[1],[1.0])|\n",
      "|              USA|              NLD|      111|        14|          59|         0|-1.1405671126306685|                   0.0|                  44.0|           8.0|     (217,[0],[1.0])|    (217,[44],[1.0])| (223,[8],[1.0])|\n",
      "|              MEA|              ISR|      036|        10|          40|         0|-1.3571922310249949|                 112.0|                   4.0|           3.0|   (217,[112],[1.0])|     (217,[4],[1.0])| (223,[3],[1.0])|\n",
      "+-----------------+-----------------+---------+----------+------------+----------+-------------------+----------------------+----------------------+--------------+--------------------+--------------------+----------------+\n",
      "only showing top 20 rows\n",
      "\n"
     ]
    }
   ],
   "source": [
    "transformed_df.show()"
   ]
  },
  {
   "cell_type": "code",
   "execution_count": null,
   "id": "0f666abd-5a56-4a32-a859-e8650d87ed7c",
   "metadata": {},
   "outputs": [],
   "source": []
  },
  {
   "cell_type": "code",
   "execution_count": null,
   "id": "2eb6c214-f736-4838-80b3-d8e6c2bcf0d2",
   "metadata": {},
   "outputs": [],
   "source": []
  }
 ],
 "metadata": {
  "kernelspec": {
   "display_name": "Python 3 (ipykernel)",
   "language": "python",
   "name": "python3"
  },
  "language_info": {
   "codemirror_mode": {
    "name": "ipython",
    "version": 3
   },
   "file_extension": ".py",
   "mimetype": "text/x-python",
   "name": "python",
   "nbconvert_exporter": "python",
   "pygments_lexer": "ipython3",
   "version": "3.10.12"
  }
 },
 "nbformat": 4,
 "nbformat_minor": 5
}
